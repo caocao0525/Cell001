{
 "cells": [
  {
   "cell_type": "code",
   "execution_count": 8,
   "metadata": {},
   "outputs": [],
   "source": [
    "import numpy as np\n",
    "import matplotlib.pyplot as plt\n",
    "%matplotlib inline\n",
    "import seaborn as sns"
   ]
  },
  {
   "cell_type": "code",
   "execution_count": 17,
   "metadata": {},
   "outputs": [],
   "source": [
    "a = [4.5, 5.1, 4.8, 4.7, 5.2, 3.2, 4.6, 4.2, 4.9, 6.5, 3.2, 2.4, 4.5, 2.5, 3.6]\n",
    "b = [13.5, 10.1, 13.8, 14.9, 10.2, 14.8, 20.1, 20.2, 17.3, 15.8, 16.4, 19.6, 15.4, 18.9]"
   ]
  },
  {
   "cell_type": "code",
   "execution_count": 18,
   "metadata": {},
   "outputs": [
    {
     "data": {
      "text/plain": [
       "[4.5, 5.1, 4.8, 4.7, 5.2, 3.2, 4.6, 4.2, 4.9, 6.5, 3.2, 2.4, 4.5, 2.5, 3.6]"
      ]
     },
     "execution_count": 18,
     "metadata": {},
     "output_type": "execute_result"
    }
   ],
   "source": [
    "a"
   ]
  },
  {
   "cell_type": "code",
   "execution_count": 19,
   "metadata": {},
   "outputs": [
    {
     "data": {
      "text/plain": [
       "[13.5,\n",
       " 10.1,\n",
       " 13.8,\n",
       " 14.9,\n",
       " 10.2,\n",
       " 14.8,\n",
       " 20.1,\n",
       " 20.2,\n",
       " 17.3,\n",
       " 15.8,\n",
       " 16.4,\n",
       " 19.6,\n",
       " 15.4,\n",
       " 18.9]"
      ]
     },
     "execution_count": 19,
     "metadata": {},
     "output_type": "execute_result"
    }
   ],
   "source": [
    "b"
   ]
  },
  {
   "cell_type": "code",
   "execution_count": 20,
   "metadata": {},
   "outputs": [
    {
     "data": {
      "text/plain": [
       "4.260000000000001"
      ]
     },
     "execution_count": 20,
     "metadata": {},
     "output_type": "execute_result"
    }
   ],
   "source": [
    "np.mean(a)"
   ]
  },
  {
   "cell_type": "code",
   "execution_count": 21,
   "metadata": {},
   "outputs": [
    {
     "data": {
      "text/plain": [
       "15.785714285714288"
      ]
     },
     "execution_count": 21,
     "metadata": {},
     "output_type": "execute_result"
    }
   ],
   "source": [
    "np.mean(b)"
   ]
  },
  {
   "cell_type": "code",
   "execution_count": 22,
   "metadata": {},
   "outputs": [
    {
     "data": {
      "text/plain": [
       "[[4.5, 5.1, 4.8, 4.7, 5.2, 3.2, 4.6, 4.2, 4.9, 6.5, 3.2, 2.4, 4.5, 2.5, 3.6],\n",
       " [13.5,\n",
       "  10.1,\n",
       "  13.8,\n",
       "  14.9,\n",
       "  10.2,\n",
       "  14.8,\n",
       "  20.1,\n",
       "  20.2,\n",
       "  17.3,\n",
       "  15.8,\n",
       "  16.4,\n",
       "  19.6,\n",
       "  15.4,\n",
       "  18.9]]"
      ]
     },
     "execution_count": 22,
     "metadata": {},
     "output_type": "execute_result"
    }
   ],
   "source": [
    "data = [a,b]\n",
    "data"
   ]
  },
  {
   "cell_type": "code",
   "execution_count": 52,
   "metadata": {},
   "outputs": [
    {
     "data": {
      "image/png": "[encoded data removed]",
      "text/plain": [
       "<Figure size 216x360 with 1 Axes>"
      ]
     },
     "metadata": {
      "needs_background": "light"
     },
     "output_type": "display_data"
    }
   ],
   "source": [
    "fig1 = plt.figure(1, figsize=(3,5))\n",
    "ax1  = fig1.subplots()\n",
    "bp = ax1.boxplot(data, patch_artist=True)\n",
    "for box in bp['boxes']:\n",
    "    box.set(linewidth=1.2)\n",
    "    box.set(color='gray',facecolor='gray')\n",
    "for whisker in bp['whiskers']:\n",
    "    whisker.set(linewidth=1.2)\n",
    "for cap in bp['caps']:\n",
    "    cap.set(linewidth=1.2)\n",
    "for median in bp['medians']:\n",
    "    median.set(linewidth=1.2)\n",
    "ax1.set_title('title')\n",
    "ax1.boxplot(data)\n",
    "plt.show()"
   ]
  },
  {
   "cell_type": "code",
   "execution_count": 31,
   "metadata": {},
   "outputs": [],
   "source": [
    "bp = ax1.boxplot(data, patch_artist=True)\n",
    "\n",
    "for box in bp['boxes']:\n",
    "    box.set(color='blue', linewidth=2)\n",
    "    box.set(facecolor='lightpink')\n",
    "plt.show()"
   ]
  },
  {
   "cell_type": "code",
   "execution_count": 54,
   "metadata": {},
   "outputs": [
    {
     "ename": "AttributeError",
     "evalue": "module 'matplotlib.pyplot' has no attribute 'saveas'",
     "output_type": "error",
     "traceback": [
      "\u001b[0;31m---------------------------------------------------------------------------\u001b[0m",
      "\u001b[0;31mAttributeError\u001b[0m                            Traceback (most recent call last)",
      "\u001b[0;32m<ipython-input-54-48bf98d846a3>\u001b[0m in \u001b[0;36m<module>\u001b[0;34m\u001b[0m\n\u001b[1;32m      1\u001b[0m \u001b[0;31m# fig1.savefig('avg_dis01.png', bbox_inches='tight')\u001b[0m\u001b[0;34m\u001b[0m\u001b[0;34m\u001b[0m\u001b[0;34m\u001b[0m\u001b[0m\n\u001b[0;32m----> 2\u001b[0;31m \u001b[0mplt\u001b[0m\u001b[0;34m.\u001b[0m\u001b[0msaveas\u001b[0m\u001b[0;34m(\u001b[0m\u001b[0mgcf\u001b[0m\u001b[0;34m,\u001b[0m \u001b[0;34m'avg_dis02.pdf'\u001b[0m\u001b[0;34m)\u001b[0m\u001b[0;34m\u001b[0m\u001b[0;34m\u001b[0m\u001b[0m\n\u001b[0m",
      "\u001b[0;31mAttributeError\u001b[0m: module 'matplotlib.pyplot' has no attribute 'saveas'"
     ]
    }
   ],
   "source": [
    "# fig1.savefig('avg_dis01.png', bbox_inches='tight')\n",
    "# saveas(gcf, 'avg_dis02.pdf')"
   ]
  },
  {
   "cell_type": "code",
   "execution_count": null,
   "metadata": {},
   "outputs": [],
   "source": []
  }
 ],
 "metadata": {
  "kernelspec": {
   "display_name": "Python 3",
   "language": "python",
   "name": "python3"
  },
  "language_info": {
   "codemirror_mode": {
    "name": "ipython",
    "version": 3
   },
   "file_extension": ".py",
   "mimetype": "text/x-python",
   "name": "python",
   "nbconvert_exporter": "python",
   "pygments_lexer": "ipython3",
   "version": "3.7.9"
  }
 },
 "nbformat": 4,
 "nbformat_minor": 4
}
