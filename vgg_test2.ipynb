{
 "cells": [
  {
   "cell_type": "code",
   "execution_count": 1,
   "metadata": {},
   "outputs": [
    {
     "name": "stderr",
     "output_type": "stream",
     "text": [
      "/home/lee/anaconda3/envs/cell/lib/python3.7/importlib/_bootstrap.py:219: RuntimeWarning: numpy.ufunc size changed, may indicate binary incompatibility. Expected 192 from C header, got 216 from PyObject\n",
      "  return f(*args, **kwds)\n"
     ]
    }
   ],
   "source": [
    "import numpy as np\n",
    "import os\n",
    "import matplotlib.pyplot as plt\n",
    "import seaborn as sns\n",
    "\n",
    "from tensorflow.python.keras.applications import vgg16, vgg19\n",
    "from tensorflow.python.keras.applications.vgg16 import preprocess_input\n",
    "from tensorflow.python.keras.preprocessing.image import ImageDataGenerator, load_img\n",
    "from tensorflow.python.keras.callbacks import ModelCheckpoint\n",
    "from tensorflow.python.keras import layers, models, Model, optimizers\n",
    "\n",
    "from sklearn.metrics import classification_report, confusion_matrix, accuracy_score, plot_confusion_matrix"
   ]
  },
  {
   "cell_type": "code",
   "execution_count": 8,
   "metadata": {},
   "outputs": [
    {
     "data": {
      "text/plain": [
       "4"
      ]
     },
     "execution_count": 8,
     "metadata": {},
     "output_type": "execute_result"
    }
   ],
   "source": [
    "train_data_dir = \"../data_split/train/\"\n",
    "test_data_dir = \"../data_split/validation/\"\n",
    "\n",
    "category_names = sorted(os.listdir('../data_split/train/'))\n",
    "nb_categories = len(category_names)\n",
    "nb_categories"
   ]
  },
  {
   "cell_type": "code",
   "execution_count": 3,
   "metadata": {},
   "outputs": [],
   "source": [
    "img_height=400\n",
    "img_width=518\n",
    "batch_size=32"
   ]
  },
  {
   "cell_type": "code",
   "execution_count": 5,
   "metadata": {},
   "outputs": [
    {
     "name": "stdout",
     "output_type": "stream",
     "text": [
      "Downloading data from https://storage.googleapis.com/tensorflow/keras-applications/vgg16/vgg16_weights_tf_dim_ordering_tf_kernels_notop.h5\n",
      "58892288/58889256 [==============================] - 1s 0us/step\n"
     ]
    }
   ],
   "source": [
    "conv_base = vgg16.VGG16(weights='imagenet', include_top=False, pooling = 'max', input_shape=(img_height,img_width,3))"
   ]
  },
  {
   "cell_type": "code",
   "execution_count": 6,
   "metadata": {
    "scrolled": false
   },
   "outputs": [
    {
     "name": "stdout",
     "output_type": "stream",
     "text": [
      "<tensorflow.python.keras.engine.input_layer.InputLayer object at 0x2b8de704d990> True\n",
      "<tensorflow.python.keras.layers.convolutional.Conv2D object at 0x2b8de79dd110> True\n",
      "<tensorflow.python.keras.layers.convolutional.Conv2D object at 0x2b8de6337c90> True\n",
      "<tensorflow.python.keras.layers.pooling.MaxPooling2D object at 0x2b8de7a00c10> True\n",
      "<tensorflow.python.keras.layers.convolutional.Conv2D object at 0x2b8de79fc450> True\n",
      "<tensorflow.python.keras.layers.convolutional.Conv2D object at 0x2b8de55ef450> True\n",
      "<tensorflow.python.keras.layers.pooling.MaxPooling2D object at 0x2b8de78afad0> True\n",
      "<tensorflow.python.keras.layers.convolutional.Conv2D object at 0x2b8de7886090> True\n",
      "<tensorflow.python.keras.layers.convolutional.Conv2D object at 0x2b8de78b2ad0> True\n",
      "<tensorflow.python.keras.layers.convolutional.Conv2D object at 0x2b8de78a6910> True\n",
      "<tensorflow.python.keras.layers.pooling.MaxPooling2D object at 0x2b8de78b6390> True\n",
      "<tensorflow.python.keras.layers.convolutional.Conv2D object at 0x2b8de7c3a250> True\n",
      "<tensorflow.python.keras.layers.convolutional.Conv2D object at 0x2b8de7c3dc90> True\n",
      "<tensorflow.python.keras.layers.convolutional.Conv2D object at 0x2b8de7c43750> True\n",
      "<tensorflow.python.keras.layers.pooling.MaxPooling2D object at 0x2b8de74a3f50> True\n",
      "<tensorflow.python.keras.layers.convolutional.Conv2D object at 0x2b8de7e93ad0> True\n",
      "<tensorflow.python.keras.layers.convolutional.Conv2D object at 0x2b8de7e95790> True\n",
      "<tensorflow.python.keras.layers.convolutional.Conv2D object at 0x2b8de7e9a850> True\n",
      "<tensorflow.python.keras.layers.pooling.MaxPooling2D object at 0x2b8de7e9c910> True\n",
      "<tensorflow.python.keras.layers.pooling.GlobalMaxPooling2D object at 0x2b8de7e9eb90> True\n"
     ]
    }
   ],
   "source": [
    "for layer in conv_base.layers :\n",
    "    print(layer, layer.trainable)"
   ]
  },
  {
   "cell_type": "code",
   "execution_count": 9,
   "metadata": {},
   "outputs": [
    {
     "name": "stdout",
     "output_type": "stream",
     "text": [
      "Model: \"sequential_1\"\n",
      "_________________________________________________________________\n",
      "Layer (type)                 Output Shape              Param #   \n",
      "=================================================================\n",
      "vgg16 (Functional)           (None, 512)               14714688  \n",
      "_________________________________________________________________\n",
      "dense_1 (Dense)              (None, 2)                 1026      \n",
      "=================================================================\n",
      "Total params: 14,715,714\n",
      "Trainable params: 14,715,714\n",
      "Non-trainable params: 0\n",
      "_________________________________________________________________\n"
     ]
    }
   ],
   "source": [
    "model = models.Sequential()\n",
    "model.add(conv_base)\n",
    "model.add(layers.Dense(2, activation = 'softmax'))\n",
    "model.summary()"
   ]
  },
  {
   "cell_type": "code",
   "execution_count": null,
   "metadata": {},
   "outputs": [],
   "source": []
  }
 ],
 "metadata": {
  "kernelspec": {
   "display_name": "Python 3",
   "language": "python",
   "name": "python3"
  },
  "language_info": {
   "codemirror_mode": {
    "name": "ipython",
    "version": 3
   },
   "file_extension": ".py",
   "mimetype": "text/x-python",
   "name": "python",
   "nbconvert_exporter": "python",
   "pygments_lexer": "ipython3",
   "version": "3.7.9"
  }
 },
 "nbformat": 4,
 "nbformat_minor": 4
}
