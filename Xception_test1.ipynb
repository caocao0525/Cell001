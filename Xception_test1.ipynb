{
 "cells": [
  {
   "cell_type": "code",
   "execution_count": 1,
   "metadata": {
    "scrolled": true
   },
   "outputs": [],
   "source": [
    "# example of tending the vgg16 model\n",
    "import tensorflow as tf\n",
    "from tensorflow import keras\n",
    "from keras.applications.vgg16 import VGG16\n",
    "from keras.applications.xception import Xception\n",
    "from tensorflow.keras import Sequential\n",
    "from tensorflow.keras.layers import Conv2D, Flatten, Dense"
   ]
  },
  {
   "cell_type": "code",
   "execution_count": 2,
   "metadata": {},
   "outputs": [
    {
     "data": {
      "text/plain": [
       "'2.3.0'"
      ]
     },
     "execution_count": 2,
     "metadata": {},
     "output_type": "execute_result"
    }
   ],
   "source": [
    "tf.__version__"
   ]
  },
  {
   "cell_type": "code",
   "execution_count": 3,
   "metadata": {},
   "outputs": [
    {
     "data": {
      "text/plain": [
       "'2.4.0'"
      ]
     },
     "execution_count": 3,
     "metadata": {},
     "output_type": "execute_result"
    }
   ],
   "source": [
    "keras.__version__"
   ]
  },
  {
   "cell_type": "code",
   "execution_count": 4,
   "metadata": {},
   "outputs": [],
   "source": [
    "img_height=224\n",
    "img_width=291\n",
    "batch_size=32"
   ]
  },
  {
   "cell_type": "code",
   "execution_count": 5,
   "metadata": {},
   "outputs": [
    {
     "name": "stdout",
     "output_type": "stream",
     "text": [
      "Found 280 files belonging to 2 classes.\n",
      "Using 224 files for training.\n"
     ]
    }
   ],
   "source": [
    "train_ds=tf.keras.preprocessing.image_dataset_from_directory(\n",
    "            '../data', labels='inferred', label_mode='int',\n",
    "            validation_split=0.2, subset='training', seed=123,\n",
    "#             color_mode='grayscale', \n",
    "            image_size=(img_height, img_width),\n",
    "            batch_size=batch_size)"
   ]
  },
  {
   "cell_type": "code",
   "execution_count": 6,
   "metadata": {},
   "outputs": [
    {
     "name": "stdout",
     "output_type": "stream",
     "text": [
      "Found 280 files belonging to 2 classes.\n",
      "Using 56 files for validation.\n"
     ]
    }
   ],
   "source": [
    "val_ds=tf.keras.preprocessing.image_dataset_from_directory(\n",
    "            '../data', labels='inferred', label_mode='int',\n",
    "            validation_split=0.2, subset='validation', seed=123,\n",
    "#             color_mode='grayscale', \n",
    "            image_size=(img_height, img_width),\n",
    "            batch_size=batch_size)"
   ]
  },
  {
   "cell_type": "code",
   "execution_count": 7,
   "metadata": {},
   "outputs": [
    {
     "name": "stdout",
     "output_type": "stream",
     "text": [
      "['par1', 'wt']\n"
     ]
    }
   ],
   "source": [
    "class_names=train_ds.class_names\n",
    "print(class_names)"
   ]
  },
  {
   "cell_type": "code",
   "execution_count": 8,
   "metadata": {},
   "outputs": [],
   "source": [
    "base_model = keras.applications.Xception(weights='imagenet', \n",
    "                                        input_shape=(img_height,img_width,3),\n",
    "                                        include_top=False)"
   ]
  },
  {
   "cell_type": "code",
   "execution_count": 9,
   "metadata": {},
   "outputs": [
    {
     "data": {
      "text/plain": [
       "True"
      ]
     },
     "execution_count": 9,
     "metadata": {},
     "output_type": "execute_result"
    }
   ],
   "source": [
    "base_model.trainable"
   ]
  },
  {
   "cell_type": "code",
   "execution_count": 10,
   "metadata": {},
   "outputs": [
    {
     "data": {
      "text/plain": [
       "False"
      ]
     },
     "execution_count": 10,
     "metadata": {},
     "output_type": "execute_result"
    }
   ],
   "source": [
    "base_model.trainable = False\n",
    "base_model.trainable"
   ]
  },
  {
   "cell_type": "code",
   "execution_count": 11,
   "metadata": {},
   "outputs": [],
   "source": [
    "inputs = keras.Input(shape=(img_height,img_width,3))\n",
    "x=base_model(inputs, training=False)\n",
    "x=keras.layers.GlobalAveragePooling2D()(x)\n",
    "outputs=keras.layers.Dense(1)(x)\n",
    "model=keras.Model(inputs,outputs)"
   ]
  },
  {
   "cell_type": "code",
   "execution_count": 12,
   "metadata": {},
   "outputs": [
    {
     "name": "stdout",
     "output_type": "stream",
     "text": [
      "Model: \"functional_1\"\n",
      "_________________________________________________________________\n",
      "Layer (type)                 Output Shape              Param #   \n",
      "=================================================================\n",
      "input_2 (InputLayer)         [(None, 224, 291, 3)]     0         \n",
      "_________________________________________________________________\n",
      "xception (Functional)        (None, 7, 9, 2048)        20861480  \n",
      "_________________________________________________________________\n",
      "global_average_pooling2d (Gl (None, 2048)              0         \n",
      "_________________________________________________________________\n",
      "dense (Dense)                (None, 1)                 2049      \n",
      "=================================================================\n",
      "Total params: 20,863,529\n",
      "Trainable params: 2,049\n",
      "Non-trainable params: 20,861,480\n",
      "_________________________________________________________________\n"
     ]
    }
   ],
   "source": [
    "model.compile(optimizer=keras.optimizers.Adam(),\n",
    "             loss=keras.losses.BinaryCrossentropy(from_logits=True),\n",
    "             metrics=[keras.metrics.BinaryAccuracy()])\n",
    "model.summary()"
   ]
  },
  {
   "cell_type": "code",
   "execution_count": 13,
   "metadata": {},
   "outputs": [
    {
     "name": "stdout",
     "output_type": "stream",
     "text": [
      "Epoch 1/10\n",
      "7/7 [==============================] - 13s 2s/step - loss: 2.6460 - binary_accuracy: 0.5134 - val_loss: 0.9843 - val_binary_accuracy: 0.6964\n",
      "Epoch 2/10\n",
      "7/7 [==============================] - 4s 544ms/step - loss: 1.4669 - binary_accuracy: 0.5580 - val_loss: 1.6020 - val_binary_accuracy: 0.4643\n",
      "Epoch 3/10\n",
      "7/7 [==============================] - 4s 541ms/step - loss: 1.5774 - binary_accuracy: 0.5000 - val_loss: 0.7259 - val_binary_accuracy: 0.7679\n",
      "Epoch 4/10\n",
      "7/7 [==============================] - 4s 532ms/step - loss: 1.1683 - binary_accuracy: 0.6295 - val_loss: 0.9985 - val_binary_accuracy: 0.5714\n",
      "Epoch 5/10\n",
      "7/7 [==============================] - 4s 538ms/step - loss: 0.9651 - binary_accuracy: 0.5848 - val_loss: 0.6902 - val_binary_accuracy: 0.6607\n",
      "Epoch 6/10\n",
      "7/7 [==============================] - 4s 525ms/step - loss: 0.9683 - binary_accuracy: 0.5670 - val_loss: 0.6889 - val_binary_accuracy: 0.6964\n",
      "Epoch 7/10\n",
      "7/7 [==============================] - 4s 536ms/step - loss: 0.8490 - binary_accuracy: 0.5491 - val_loss: 1.0384 - val_binary_accuracy: 0.4821\n",
      "Epoch 8/10\n",
      "7/7 [==============================] - 4s 538ms/step - loss: 0.8361 - binary_accuracy: 0.6161 - val_loss: 0.6566 - val_binary_accuracy: 0.7679\n",
      "Epoch 9/10\n",
      "7/7 [==============================] - 3s 498ms/step - loss: 0.7890 - binary_accuracy: 0.5759 - val_loss: 0.8390 - val_binary_accuracy: 0.6250\n",
      "Epoch 10/10\n",
      "7/7 [==============================] - 4s 534ms/step - loss: 0.7390 - binary_accuracy: 0.5982 - val_loss: 0.6771 - val_binary_accuracy: 0.6429\n"
     ]
    }
   ],
   "source": [
    "epochs=10\n",
    "history = model.fit(train_ds, validation_data=val_ds, epochs=epochs)"
   ]
  },
  {
   "cell_type": "code",
   "execution_count": null,
   "metadata": {},
   "outputs": [],
   "source": []
  }
 ],
 "metadata": {
  "kernelspec": {
   "display_name": "Python 3",
   "language": "python",
   "name": "python3"
  },
  "language_info": {
   "codemirror_mode": {
    "name": "ipython",
    "version": 3
   },
   "file_extension": ".py",
   "mimetype": "text/x-python",
   "name": "python",
   "nbconvert_exporter": "python",
   "pygments_lexer": "ipython3",
   "version": "3.7.9"
  }
 },
 "nbformat": 4,
 "nbformat_minor": 4
}
