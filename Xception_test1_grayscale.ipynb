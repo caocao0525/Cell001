{
 "cells": [
  {
   "cell_type": "code",
   "execution_count": 15,
   "metadata": {
    "scrolled": true
   },
   "outputs": [],
   "source": [
    "# example of tending the vgg16 model\n",
    "import tensorflow as tf\n",
    "from tensorflow import keras\n",
    "from keras.applications.vgg16 import VGG16\n",
    "from keras.applications.xception import Xception\n",
    "from tensorflow.keras import Sequential\n",
    "from tensorflow.keras.layers import Conv2D, Flatten, Dense\n",
    "import numpy as np"
   ]
  },
  {
   "cell_type": "code",
   "execution_count": 2,
   "metadata": {},
   "outputs": [
    {
     "data": {
      "text/plain": [
       "'2.3.0'"
      ]
     },
     "execution_count": 2,
     "metadata": {},
     "output_type": "execute_result"
    }
   ],
   "source": [
    "tf.__version__"
   ]
  },
  {
   "cell_type": "code",
   "execution_count": 3,
   "metadata": {},
   "outputs": [
    {
     "data": {
      "text/plain": [
       "'2.4.0'"
      ]
     },
     "execution_count": 3,
     "metadata": {},
     "output_type": "execute_result"
    }
   ],
   "source": [
    "keras.__version__"
   ]
  },
  {
   "cell_type": "code",
   "execution_count": 4,
   "metadata": {},
   "outputs": [],
   "source": [
    "img_height=224\n",
    "img_width=291\n",
    "batch_size=32"
   ]
  },
  {
   "cell_type": "code",
   "execution_count": 5,
   "metadata": {},
   "outputs": [
    {
     "name": "stdout",
     "output_type": "stream",
     "text": [
      "Found 671 files belonging to 2 classes.\n",
      "Using 537 files for training.\n"
     ]
    }
   ],
   "source": [
    "train_ds=tf.keras.preprocessing.image_dataset_from_directory(\n",
    "            '../data_grayscale/', labels='inferred', label_mode='int',\n",
    "            validation_split=0.2, subset='training', seed=123,\n",
    "#             color_mode='grayscale', \n",
    "            image_size=(img_height, img_width),\n",
    "            batch_size=batch_size)"
   ]
  },
  {
   "cell_type": "code",
   "execution_count": 6,
   "metadata": {},
   "outputs": [
    {
     "name": "stdout",
     "output_type": "stream",
     "text": [
      "Found 671 files belonging to 2 classes.\n",
      "Using 134 files for validation.\n"
     ]
    }
   ],
   "source": [
    "val_ds=tf.keras.preprocessing.image_dataset_from_directory(\n",
    "            '../data_grayscale/', labels='inferred', label_mode='int',\n",
    "            validation_split=0.2, subset='validation', seed=123,\n",
    "#             color_mode='grayscale', \n",
    "            image_size=(img_height, img_width),\n",
    "            batch_size=batch_size)"
   ]
  },
  {
   "cell_type": "code",
   "execution_count": 7,
   "metadata": {},
   "outputs": [
    {
     "name": "stdout",
     "output_type": "stream",
     "text": [
      "['par1', 'wt']\n"
     ]
    }
   ],
   "source": [
    "class_names=train_ds.class_names\n",
    "print(class_names)"
   ]
  },
  {
   "cell_type": "code",
   "execution_count": 8,
   "metadata": {},
   "outputs": [],
   "source": [
    "base_model = keras.applications.Xception(weights='imagenet', \n",
    "                                        input_shape=(img_height,img_width,3),\n",
    "                                        include_top=False)"
   ]
  },
  {
   "cell_type": "code",
   "execution_count": 9,
   "metadata": {},
   "outputs": [
    {
     "data": {
      "text/plain": [
       "True"
      ]
     },
     "execution_count": 9,
     "metadata": {},
     "output_type": "execute_result"
    }
   ],
   "source": [
    "base_model.trainable"
   ]
  },
  {
   "cell_type": "code",
   "execution_count": 10,
   "metadata": {},
   "outputs": [
    {
     "data": {
      "text/plain": [
       "False"
      ]
     },
     "execution_count": 10,
     "metadata": {},
     "output_type": "execute_result"
    }
   ],
   "source": [
    "base_model.trainable = False\n",
    "base_model.trainable"
   ]
  },
  {
   "cell_type": "code",
   "execution_count": 16,
   "metadata": {},
   "outputs": [],
   "source": [
    "inputs = keras.Input(shape=(img_height,img_width,3))\n",
    "\n",
    "norm_layer = keras.layers.experimental.preprocessing.Normalization()\n",
    "mean=np.array([127.5]*3)\n",
    "var = mean**2\n",
    "x = norm_layer(inputs)\n",
    "norm_layer.set_weights([mean,var])\n",
    "\n",
    "x=base_model(x, training=False)\n",
    "x=keras.layers.GlobalAveragePooling2D()(x)\n",
    "outputs=keras.layers.Dense(1)(x)\n",
    "model=keras.Model(inputs,outputs)"
   ]
  },
  {
   "cell_type": "code",
   "execution_count": 17,
   "metadata": {},
   "outputs": [
    {
     "name": "stdout",
     "output_type": "stream",
     "text": [
      "Model: \"functional_3\"\n",
      "_________________________________________________________________\n",
      "Layer (type)                 Output Shape              Param #   \n",
      "=================================================================\n",
      "input_4 (InputLayer)         [(None, 224, 291, 3)]     0         \n",
      "_________________________________________________________________\n",
      "normalization_1 (Normalizati (None, 224, 291, 3)       7         \n",
      "_________________________________________________________________\n",
      "xception (Functional)        (None, 7, 9, 2048)        20861480  \n",
      "_________________________________________________________________\n",
      "global_average_pooling2d_1 ( (None, 2048)              0         \n",
      "_________________________________________________________________\n",
      "dense_1 (Dense)              (None, 1)                 2049      \n",
      "=================================================================\n",
      "Total params: 20,863,536\n",
      "Trainable params: 2,049\n",
      "Non-trainable params: 20,861,487\n",
      "_________________________________________________________________\n"
     ]
    }
   ],
   "source": [
    "model.compile(optimizer=keras.optimizers.Adam(),\n",
    "             loss=keras.losses.BinaryCrossentropy(from_logits=True),\n",
    "             metrics=[keras.metrics.BinaryAccuracy()])\n",
    "model.summary()"
   ]
  },
  {
   "cell_type": "code",
   "execution_count": 18,
   "metadata": {},
   "outputs": [
    {
     "name": "stdout",
     "output_type": "stream",
     "text": [
      "Epoch 1/10\n",
      "17/17 [==============================] - 7s 415ms/step - loss: 0.3656 - binary_accuracy: 0.8864 - val_loss: 0.1513 - val_binary_accuracy: 1.0000\n",
      "Epoch 2/10\n",
      "17/17 [==============================] - 7s 394ms/step - loss: 0.0918 - binary_accuracy: 1.0000 - val_loss: 0.0521 - val_binary_accuracy: 1.0000\n",
      "Epoch 3/10\n",
      "17/17 [==============================] - 7s 393ms/step - loss: 0.0385 - binary_accuracy: 1.0000 - val_loss: 0.0287 - val_binary_accuracy: 1.0000\n",
      "Epoch 4/10\n",
      "17/17 [==============================] - 7s 385ms/step - loss: 0.0239 - binary_accuracy: 1.0000 - val_loss: 0.0198 - val_binary_accuracy: 1.0000\n",
      "Epoch 5/10\n",
      "17/17 [==============================] - 7s 395ms/step - loss: 0.0173 - binary_accuracy: 1.0000 - val_loss: 0.0152 - val_binary_accuracy: 1.0000\n",
      "Epoch 6/10\n",
      "17/17 [==============================] - 7s 385ms/step - loss: 0.0136 - binary_accuracy: 1.0000 - val_loss: 0.0122 - val_binary_accuracy: 1.0000\n",
      "Epoch 7/10\n",
      "17/17 [==============================] - 7s 385ms/step - loss: 0.0111 - binary_accuracy: 1.0000 - val_loss: 0.0101 - val_binary_accuracy: 1.0000\n",
      "Epoch 8/10\n",
      "17/17 [==============================] - 6s 382ms/step - loss: 0.0093 - binary_accuracy: 1.0000 - val_loss: 0.0086 - val_binary_accuracy: 1.0000\n",
      "Epoch 9/10\n",
      "17/17 [==============================] - 7s 390ms/step - loss: 0.0079 - binary_accuracy: 1.0000 - val_loss: 0.0074 - val_binary_accuracy: 1.0000\n",
      "Epoch 10/10\n",
      "17/17 [==============================] - 6s 378ms/step - loss: 0.0068 - binary_accuracy: 1.0000 - val_loss: 0.0064 - val_binary_accuracy: 1.0000\n"
     ]
    }
   ],
   "source": [
    "epochs=10\n",
    "history = model.fit(train_ds, validation_data=val_ds, epochs=epochs)"
   ]
  },
  {
   "cell_type": "code",
   "execution_count": null,
   "metadata": {},
   "outputs": [],
   "source": []
  }
 ],
 "metadata": {
  "kernelspec": {
   "display_name": "Python 3",
   "language": "python",
   "name": "python3"
  },
  "language_info": {
   "codemirror_mode": {
    "name": "ipython",
    "version": 3
   },
   "file_extension": ".py",
   "mimetype": "text/x-python",
   "name": "python",
   "nbconvert_exporter": "python",
   "pygments_lexer": "ipython3",
   "version": "3.7.9"
  }
 },
 "nbformat": 4,
 "nbformat_minor": 4
}
