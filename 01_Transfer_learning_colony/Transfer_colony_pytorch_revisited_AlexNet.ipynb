{
 "cells": [
  {
   "cell_type": "code",
   "execution_count": 1,
   "id": "35e6ec4a",
   "metadata": {},
   "outputs": [],
   "source": [
    "import torch\n",
    "import torchvision\n",
    "from torchvision import models #  import pretrained model from torchvision\n",
    "import torch.nn as nn\n",
    "import torch.optim as optim\n",
    "import torch.nn.functional as F\n",
    "import torchvision.transforms as transforms\n",
    "%matplotlib inline\n",
    "import numpy as np\n",
    "from matplotlib import pyplot as plt\n",
    "import os"
   ]
  },
  {
   "cell_type": "code",
   "execution_count": 17,
   "id": "5e6dfde4",
   "metadata": {},
   "outputs": [],
   "source": [
    "# Spatial size of training images. All images will be resized to this\n",
    "#   size using a transformer.\n",
    "image_size = 400\n",
    "batch_size = 64"
   ]
  },
  {
   "cell_type": "code",
   "execution_count": 18,
   "id": "0b842e0b",
   "metadata": {},
   "outputs": [],
   "source": [
    "data_transforms = {\n",
    "    'train': transforms.Compose([\n",
    "        transforms.RandomResizedCrop(image_size),\n",
    "        transforms.ToTensor(),\n",
    "        transforms.Normalize([0.5, 0.5, 0.5], [0.5, 0.5, 0.5])\n",
    "    ]),\n",
    "    'val': transforms.Compose([\n",
    "        transforms.RandomResizedCrop(image_size),\n",
    "        transforms.ToTensor(),\n",
    "        transforms.Normalize([0.485, 0.456, 0.406], [0.229, 0.224, 0.225])\n",
    "    ]),\n",
    "}\n"
   ]
  },
  {
   "cell_type": "code",
   "execution_count": 35,
   "id": "183c051e",
   "metadata": {},
   "outputs": [],
   "source": [
    "# define the pretrained model\n",
    "\n",
    "device = 'cuda' if torch.cuda.is_available() else 'cpu'\n",
    "\n",
    "# net = models.alexnet(pretrained=True)\n",
    "net=models.alexnet(pretrained=True)\n",
    "net = net.to(device)\n",
    "\n",
    "criterion = nn.CrossEntropyLoss()\n",
    "optimizer = optim.SGD(net.parameters(), lr=0.01, momentum=0.9, weight_decay=5e-4)"
   ]
  },
  {
   "cell_type": "code",
   "execution_count": 36,
   "id": "d27e1061",
   "metadata": {
    "scrolled": true
   },
   "outputs": [
    {
     "data": {
      "text/plain": [
       "AlexNet(\n",
       "  (features): Sequential(\n",
       "    (0): Conv2d(3, 64, kernel_size=(11, 11), stride=(4, 4), padding=(2, 2))\n",
       "    (1): ReLU(inplace=True)\n",
       "    (2): MaxPool2d(kernel_size=3, stride=2, padding=0, dilation=1, ceil_mode=False)\n",
       "    (3): Conv2d(64, 192, kernel_size=(5, 5), stride=(1, 1), padding=(2, 2))\n",
       "    (4): ReLU(inplace=True)\n",
       "    (5): MaxPool2d(kernel_size=3, stride=2, padding=0, dilation=1, ceil_mode=False)\n",
       "    (6): Conv2d(192, 384, kernel_size=(3, 3), stride=(1, 1), padding=(1, 1))\n",
       "    (7): ReLU(inplace=True)\n",
       "    (8): Conv2d(384, 256, kernel_size=(3, 3), stride=(1, 1), padding=(1, 1))\n",
       "    (9): ReLU(inplace=True)\n",
       "    (10): Conv2d(256, 256, kernel_size=(3, 3), stride=(1, 1), padding=(1, 1))\n",
       "    (11): ReLU(inplace=True)\n",
       "    (12): MaxPool2d(kernel_size=3, stride=2, padding=0, dilation=1, ceil_mode=False)\n",
       "  )\n",
       "  (avgpool): AdaptiveAvgPool2d(output_size=(6, 6))\n",
       "  (classifier): Sequential(\n",
       "    (0): Dropout(p=0.5, inplace=False)\n",
       "    (1): Linear(in_features=9216, out_features=4096, bias=True)\n",
       "    (2): ReLU(inplace=True)\n",
       "    (3): Dropout(p=0.5, inplace=False)\n",
       "    (4): Linear(in_features=4096, out_features=4096, bias=True)\n",
       "    (5): ReLU(inplace=True)\n",
       "    (6): Linear(in_features=4096, out_features=1000, bias=True)\n",
       "  )\n",
       ")"
      ]
     },
     "execution_count": 36,
     "metadata": {},
     "output_type": "execute_result"
    }
   ],
   "source": [
    "net"
   ]
  },
  {
   "cell_type": "code",
   "execution_count": 37,
   "id": "64a3a26e",
   "metadata": {},
   "outputs": [],
   "source": [
    "# freeze all the layers except for the final classifier\n",
    "\n",
    "for param in net.parameters():\n",
    "    param.requires_grad = False\n",
    "net = net.to(device)\n",
    "\n",
    "# change the final classifier into binary classifier by overwriting the number of the final features\n",
    "num_ftrs = net.classifier[6].in_features\n",
    "net.classifier[6] = nn.Linear(num_ftrs, 2).to(device) # change the no. of out_features from 1000 to 2"
   ]
  },
  {
   "cell_type": "code",
   "execution_count": 38,
   "id": "9c4c86b7",
   "metadata": {
    "scrolled": true
   },
   "outputs": [
    {
     "data": {
      "text/plain": [
       "AlexNet(\n",
       "  (features): Sequential(\n",
       "    (0): Conv2d(3, 64, kernel_size=(11, 11), stride=(4, 4), padding=(2, 2))\n",
       "    (1): ReLU(inplace=True)\n",
       "    (2): MaxPool2d(kernel_size=3, stride=2, padding=0, dilation=1, ceil_mode=False)\n",
       "    (3): Conv2d(64, 192, kernel_size=(5, 5), stride=(1, 1), padding=(2, 2))\n",
       "    (4): ReLU(inplace=True)\n",
       "    (5): MaxPool2d(kernel_size=3, stride=2, padding=0, dilation=1, ceil_mode=False)\n",
       "    (6): Conv2d(192, 384, kernel_size=(3, 3), stride=(1, 1), padding=(1, 1))\n",
       "    (7): ReLU(inplace=True)\n",
       "    (8): Conv2d(384, 256, kernel_size=(3, 3), stride=(1, 1), padding=(1, 1))\n",
       "    (9): ReLU(inplace=True)\n",
       "    (10): Conv2d(256, 256, kernel_size=(3, 3), stride=(1, 1), padding=(1, 1))\n",
       "    (11): ReLU(inplace=True)\n",
       "    (12): MaxPool2d(kernel_size=3, stride=2, padding=0, dilation=1, ceil_mode=False)\n",
       "  )\n",
       "  (avgpool): AdaptiveAvgPool2d(output_size=(6, 6))\n",
       "  (classifier): Sequential(\n",
       "    (0): Dropout(p=0.5, inplace=False)\n",
       "    (1): Linear(in_features=9216, out_features=4096, bias=True)\n",
       "    (2): ReLU(inplace=True)\n",
       "    (3): Dropout(p=0.5, inplace=False)\n",
       "    (4): Linear(in_features=4096, out_features=4096, bias=True)\n",
       "    (5): ReLU(inplace=True)\n",
       "    (6): Linear(in_features=4096, out_features=2, bias=True)\n",
       "  )\n",
       ")"
      ]
     },
     "execution_count": 38,
     "metadata": {},
     "output_type": "execute_result"
    }
   ],
   "source": [
    "net"
   ]
  },
  {
   "cell_type": "code",
   "execution_count": 39,
   "id": "165a38b7",
   "metadata": {},
   "outputs": [],
   "source": [
    "# In the case where you need to change the training rate, use scheduler\n",
    "\n",
    "criterion = nn.CrossEntropyLoss()\n",
    "optimizer = optim.SGD(net.parameters(), lr=0.01, momentum=0.9, weight_decay=5e-4)\n",
    "lr_scheduler = torch.optim.lr_scheduler.StepLR(optimizer, step_size=10, gamma=0.1)"
   ]
  },
  {
   "cell_type": "code",
   "execution_count": 40,
   "id": "69ea51b3",
   "metadata": {},
   "outputs": [],
   "source": [
    "data_dir='../../data_colony/'\n",
    "# data_dir = '../../hymenoptera_data/hymenoptera_data/'\n",
    "\n",
    "train_dataset=torchvision.datasets.ImageFolder(os.path.join(data_dir, 'train'), data_transforms['train'])\n",
    "val_dataset=torchvision.datasets.ImageFolder(os.path.join(data_dir, 'test'), data_transforms['val'])\n",
    "\n",
    "train_loader=torch.utils.data.DataLoader(train_dataset, batch_size=batch_size, shuffle=True, num_workers=4)\n",
    "test_loader=torch.utils.data.DataLoader(val_dataset, batch_size=batch_size, shuffle=True, num_workers=4)"
   ]
  },
  {
   "cell_type": "code",
   "execution_count": 41,
   "id": "ae2563a9",
   "metadata": {
    "scrolled": true
   },
   "outputs": [
    {
     "name": "stdout",
     "output_type": "stream",
     "text": [
      "Epoch [1/50], Loss: 0.0054, val_loss: 0.0097, val_acc: 0.7990, lr:0.01\n",
      "Epoch [2/50], Loss: 0.0046, val_loss: 0.0063, val_acc: 0.8892, lr:0.01\n",
      "Epoch [3/50], Loss: 0.0062, val_loss: 0.0105, val_acc: 0.8122, lr:0.01\n",
      "Epoch [4/50], Loss: 0.0051, val_loss: 0.0089, val_acc: 0.8236, lr:0.01\n",
      "Epoch [5/50], Loss: 0.0052, val_loss: 0.0117, val_acc: 0.7990, lr:0.01\n",
      "Epoch [6/50], Loss: 0.0044, val_loss: 0.0066, val_acc: 0.8683, lr:0.01\n",
      "Epoch [7/50], Loss: 0.0047, val_loss: 0.0120, val_acc: 0.7812, lr:0.01\n",
      "Epoch [8/50], Loss: 0.0052, val_loss: 0.0120, val_acc: 0.7967, lr:0.01\n",
      "Epoch [9/50], Loss: 0.0053, val_loss: 0.0124, val_acc: 0.8054, lr:0.01\n",
      "Epoch [10/50], Loss: 0.0048, val_loss: 0.0140, val_acc: 0.7963, lr:0.01\n",
      "Epoch [11/50], Loss: 0.0052, val_loss: 0.0059, val_acc: 0.8883, lr:0.01\n",
      "Epoch [12/50], Loss: 0.0051, val_loss: 0.0090, val_acc: 0.8254, lr:0.01\n",
      "Epoch [13/50], Loss: 0.0061, val_loss: 0.0120, val_acc: 0.8245, lr:0.01\n",
      "Epoch [14/50], Loss: 0.0054, val_loss: 0.0218, val_acc: 0.6878, lr:0.01\n",
      "Epoch [15/50], Loss: 0.0051, val_loss: 0.0079, val_acc: 0.8619, lr:0.01\n",
      "Epoch [16/50], Loss: 0.0048, val_loss: 0.0068, val_acc: 0.9002, lr:0.01\n",
      "Epoch [17/50], Loss: 0.0050, val_loss: 0.0073, val_acc: 0.8719, lr:0.01\n",
      "Epoch [18/50], Loss: 0.0042, val_loss: 0.0090, val_acc: 0.8396, lr:0.01\n",
      "Epoch [19/50], Loss: 0.0051, val_loss: 0.0379, val_acc: 0.5966, lr:0.01\n",
      "Epoch [20/50], Loss: 0.0041, val_loss: 0.0143, val_acc: 0.7903, lr:0.01\n",
      "Epoch [21/50], Loss: 0.0039, val_loss: 0.0076, val_acc: 0.8387, lr:0.01\n",
      "Epoch [22/50], Loss: 0.0039, val_loss: 0.0066, val_acc: 0.8719, lr:0.01\n",
      "Epoch [23/50], Loss: 0.0042, val_loss: 0.0070, val_acc: 0.8678, lr:0.01\n",
      "Epoch [24/50], Loss: 0.0053, val_loss: 0.0121, val_acc: 0.8095, lr:0.01\n",
      "Epoch [25/50], Loss: 0.0050, val_loss: 0.0066, val_acc: 0.8692, lr:0.01\n",
      "Epoch [26/50], Loss: 0.0050, val_loss: 0.0068, val_acc: 0.8815, lr:0.01\n",
      "Epoch [27/50], Loss: 0.0051, val_loss: 0.0092, val_acc: 0.8368, lr:0.01\n",
      "Epoch [28/50], Loss: 0.0049, val_loss: 0.0092, val_acc: 0.8418, lr:0.01\n",
      "Epoch [29/50], Loss: 0.0053, val_loss: 0.0070, val_acc: 0.8838, lr:0.01\n",
      "Epoch [30/50], Loss: 0.0047, val_loss: 0.0127, val_acc: 0.8017, lr:0.01\n",
      "Epoch [31/50], Loss: 0.0045, val_loss: 0.0077, val_acc: 0.8624, lr:0.01\n",
      "Epoch [32/50], Loss: 0.0066, val_loss: 0.0094, val_acc: 0.8446, lr:0.01\n",
      "Epoch [33/50], Loss: 0.0050, val_loss: 0.0054, val_acc: 0.8997, lr:0.01\n",
      "Epoch [34/50], Loss: 0.0054, val_loss: 0.0107, val_acc: 0.8364, lr:0.01\n",
      "Epoch [35/50], Loss: 0.0046, val_loss: 0.0102, val_acc: 0.8573, lr:0.01\n",
      "Epoch [36/50], Loss: 0.0056, val_loss: 0.0208, val_acc: 0.7502, lr:0.01\n",
      "Epoch [37/50], Loss: 0.0057, val_loss: 0.0115, val_acc: 0.8387, lr:0.01\n",
      "Epoch [38/50], Loss: 0.0048, val_loss: 0.0158, val_acc: 0.7926, lr:0.01\n",
      "Epoch [39/50], Loss: 0.0043, val_loss: 0.0079, val_acc: 0.8605, lr:0.01\n",
      "Epoch [40/50], Loss: 0.0040, val_loss: 0.0096, val_acc: 0.8345, lr:0.01\n",
      "Epoch [41/50], Loss: 0.0043, val_loss: 0.0198, val_acc: 0.7370, lr:0.01\n",
      "Epoch [42/50], Loss: 0.0045, val_loss: 0.0110, val_acc: 0.8149, lr:0.01\n",
      "Epoch [43/50], Loss: 0.0051, val_loss: 0.0087, val_acc: 0.8624, lr:0.01\n",
      "Epoch [44/50], Loss: 0.0045, val_loss: 0.0064, val_acc: 0.8929, lr:0.01\n",
      "Epoch [45/50], Loss: 0.0048, val_loss: 0.0107, val_acc: 0.8209, lr:0.01\n",
      "Epoch [46/50], Loss: 0.0044, val_loss: 0.0054, val_acc: 0.9029, lr:0.01\n",
      "Epoch [47/50], Loss: 0.0050, val_loss: 0.0076, val_acc: 0.8692, lr:0.01\n",
      "Epoch [48/50], Loss: 0.0046, val_loss: 0.0097, val_acc: 0.8241, lr:0.01\n",
      "Epoch [49/50], Loss: 0.0052, val_loss: 0.0092, val_acc: 0.8482, lr:0.01\n",
      "Epoch [50/50], Loss: 0.0043, val_loss: 0.0101, val_acc: 0.8405, lr:0.01\n"
     ]
    }
   ],
   "source": [
    "# TRAIN THE NETWORK\n",
    "\n",
    "\n",
    "num_epochs = 50\n",
    "\n",
    "train_loss_list = [] # make an empty list for later use\n",
    "train_acc_list = []\n",
    "val_loss_list = []\n",
    "val_acc_list = []\n",
    "\n",
    "for epoch in range(num_epochs):\n",
    "    train_loss = 0 # set initial values for all the epoch\n",
    "    train_acc = 0\n",
    "    val_loss = 0\n",
    "    val_acc = 0\n",
    "    \n",
    "    ##### train #####\n",
    "    net.train()  # transform into training mode \n",
    "    # read by mini batch\n",
    "    for i, (images, labels) in enumerate(train_loader):\n",
    "#         images, labels = images.view(-1, 32*32*3).to(device), labels.to(device) # transform into 1D and transfer to GPU\n",
    "        images, labels = images.to(device), labels.to(device) # not to bother to transform into 1D (it already is 1D by AlexNet)\n",
    "        optimizer.zero_grad() # initialize the gradient\n",
    "        outputs = net(images) # feedforward calculation\n",
    "        loss = criterion(outputs, labels)\n",
    "        train_loss +=loss.item()\n",
    "        train_acc += (outputs.max(1)[1]==labels).sum().item()\n",
    "        loss.backward() # backpropagation calculation\n",
    "        optimizer.step() \n",
    "\n",
    "    avg_train_loss = train_loss / len(train_loader.dataset)\n",
    "    avg_train_acc = train_acc / len(train_loader.dataset)\n",
    "    \n",
    "    ##### evaluation #####\n",
    "    net.eval() # switch to evaluation mode\n",
    "    with torch.no_grad(): # gradient calculation is not required for the evaluation\n",
    "        for images, labels in test_loader:\n",
    "            images = images.to(device)\n",
    "            labels = labels.to(device) # not to bother to transform into 1D (it already is 1D by AlexNet)\n",
    "            outputs = net(images)\n",
    "            loss = criterion(outputs, labels)\n",
    "            val_loss += loss.item()\n",
    "            val_acc += (outputs.max(1)[1] == labels).sum().item()\n",
    "        avg_val_loss = val_loss / len(test_loader.dataset)\n",
    "        avg_val_acc = val_acc / len(test_loader.dataset)\n",
    "            \n",
    "        print(\"Epoch [{}/{}], Loss: {loss:.4f}, val_loss: {val_loss:.4f}, val_acc: {val_acc:.4f}, lr:{learning_rate}\".format\n",
    "                  (epoch+1, num_epochs, i+1, loss = avg_train_loss, val_loss=avg_val_loss, val_acc=avg_val_acc, \n",
    "                   learning_rate=optimizer.param_groups[0]['lr']))\n",
    "            \n",
    "        train_loss_list.append(avg_train_loss)\n",
    "        train_acc_list.append(avg_train_acc)\n",
    "        val_loss_list.append(avg_val_loss)\n",
    "        val_acc_list.append(avg_val_acc)"
   ]
  },
  {
   "cell_type": "code",
   "execution_count": 45,
   "id": "5348ebf2",
   "metadata": {},
   "outputs": [
    {
     "data": {
      "text/plain": [
       "(0.5, 1.0)"
      ]
     },
     "execution_count": 45,
     "metadata": {},
     "output_type": "execute_result"
    },
    {
     "data": {
      "image/png": "[encoded data removed]",
      "text/plain": [
       "<Figure size 432x288 with 1 Axes>"
      ]
     },
     "metadata": {
      "needs_background": "light"
     },
     "output_type": "display_data"
    },
    {
     "data": {
      "image/png": "[encoded data removed]",
      "text/plain": [
       "<Figure size 432x288 with 1 Axes>"
      ]
     },
     "metadata": {
      "needs_background": "light"
     },
     "output_type": "display_data"
    }
   ],
   "source": [
    "import matplotlib.pyplot as plt\n",
    "%matplotlib inline\n",
    "\n",
    "plt.figure()\n",
    "plt.plot(range(num_epochs), train_loss_list, color = 'royalblue', linestyle = '-', label = 'train_loss')\n",
    "plt.plot(range(num_epochs), val_loss_list, color = 'darkorange', linestyle = '--', label = 'val_loss')\n",
    "plt.legend()\n",
    "plt.xlabel('epoch')\n",
    "plt.ylabel('loss')\n",
    "plt.title('Training and validation loss')\n",
    "# plt.grid()\n",
    "plt.ylim([0,0.05])\n",
    "\n",
    "plt.figure()\n",
    "plt.plot(range(num_epochs), train_acc_list, color = 'royalblue', linestyle = '-', label = 'train_acc')\n",
    "plt.plot(range(num_epochs), val_acc_list, color = 'darkorange', linestyle = '--', label = 'val_acc')\n",
    "plt.legend()\n",
    "plt.xlabel('epoch')\n",
    "plt.ylabel('loss')\n",
    "plt.title('Training and validation accuracy')\n",
    "# plt.grid()\n",
    "plt.ylim([0.5,1])"
   ]
  },
  {
   "cell_type": "code",
   "execution_count": null,
   "id": "f8af9724",
   "metadata": {},
   "outputs": [],
   "source": []
  }
 ],
 "metadata": {
  "kernelspec": {
   "display_name": "Python 3",
   "language": "python",
   "name": "python3"
  },
  "language_info": {
   "codemirror_mode": {
    "name": "ipython",
    "version": 3
   },
   "file_extension": ".py",
   "mimetype": "text/x-python",
   "name": "python",
   "nbconvert_exporter": "python",
   "pygments_lexer": "ipython3",
   "version": "3.6.9"
  }
 },
 "nbformat": 4,
 "nbformat_minor": 5
}
