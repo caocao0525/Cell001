{
 "cells": [
  {
   "cell_type": "code",
   "execution_count": 1,
   "metadata": {},
   "outputs": [],
   "source": [
    "import torch\n",
    "import torch.nn.functional as F\n",
    "import matplotlib.pyplot as plt\n",
    "from torch import nn\n",
    "from tqdm.auto import tqdm\n",
    "from torchvision import transforms\n",
    "from torchvision.utils import make_grid\n",
    "from torch.utils.data import DataLoader"
   ]
  },
  {
   "cell_type": "code",
   "execution_count": 5,
   "metadata": {},
   "outputs": [],
   "source": [
    "n_test_samples = 100\n",
    "real = torch.ones(n_test_samples, 1)\n",
    "fake = torch.zeros(n_test_samples,1)"
   ]
  },
  {
   "cell_type": "code",
   "execution_count": 6,
   "metadata": {
    "scrolled": true
   },
   "outputs": [
    {
     "data": {
      "text/plain": [
       "torch.Size([100, 1])"
      ]
     },
     "execution_count": 6,
     "metadata": {},
     "output_type": "execute_result"
    }
   ],
   "source": [
    "real.shape"
   ]
  },
  {
   "cell_type": "code",
   "execution_count": 7,
   "metadata": {},
   "outputs": [
    {
     "data": {
      "text/plain": [
       "torch.Size([100, 1])"
      ]
     },
     "execution_count": 7,
     "metadata": {},
     "output_type": "execute_result"
    }
   ],
   "source": [
    "fake.shape"
   ]
  },
  {
   "cell_type": "code",
   "execution_count": 8,
   "metadata": {},
   "outputs": [],
   "source": [
    "# x=torch.tensor([False, False, True, False,False])\n",
    "# y=torch.tensor([10,20,30,40,50])\n",
    "# z=torch.tensor([15,25,35,45,55])\n",
    "# i=y.clone() # i = [10,20,30,40,50]\n",
    "# print(i)\n",
    "# # masking i using x to get values from z\n",
    "# i[x]=z[x] # i= [10, 20, 35, 40, 50]\n",
    "# print(i)\n",
    "# I hope this is helpful"
   ]
  },
  {
   "cell_type": "code",
   "execution_count": 12,
   "metadata": {},
   "outputs": [],
   "source": [
    "index_matrix=torch.rand(len(real))\n",
    "index_matrix.shape\n",
    "p_real = 0.2"
   ]
  },
  {
   "cell_type": "code",
   "execution_count": 26,
   "metadata": {},
   "outputs": [
    {
     "data": {
      "text/plain": [
       "tensor([0.6316, 0.2445, 0.0862, 0.7663, 0.5388, 0.6584, 0.7923, 0.6626, 0.8022,\n",
       "        0.3877, 0.6442, 0.6173, 0.9479, 0.0760, 0.3003, 1.0000, 0.3426, 0.3655,\n",
       "        0.6732, 0.7333, 0.2985, 0.3051, 0.8008, 0.2523, 0.2030, 0.7436, 0.3923,\n",
       "        0.2825, 0.6484, 0.2572, 0.9546, 0.4043, 0.3704, 0.5402, 0.2419, 0.3153,\n",
       "        0.5593, 0.0287, 0.1917, 0.9359, 0.2729, 0.4581, 0.0607, 0.3374, 0.5578,\n",
       "        0.2632, 0.4823, 0.9899, 0.8333, 0.4194, 0.4105, 0.5419, 0.8151, 0.1200,\n",
       "        0.1463, 0.7634, 0.3842, 0.4933, 0.1310, 0.7157, 0.7656, 0.1599, 0.1263,\n",
       "        0.1219, 0.3632, 0.5466, 0.0093, 0.1286, 0.1976, 0.7025, 0.7575, 0.0971,\n",
       "        0.2902, 0.9816, 0.0730, 0.3663, 0.9258, 0.3773, 0.3556, 0.3053, 0.4094,\n",
       "        0.6468, 0.4117, 0.9455, 0.6738, 0.9799, 0.6769, 0.5867, 0.0649, 0.2755,\n",
       "        0.6035, 0.7859, 0.0222, 0.4793, 0.1885, 0.0227, 0.5377, 0.6218, 0.5273,\n",
       "        0.5302])"
      ]
     },
     "execution_count": 26,
     "metadata": {},
     "output_type": "execute_result"
    }
   ],
   "source": [
    "index_matrix"
   ]
  },
  {
   "cell_type": "code",
   "execution_count": 15,
   "metadata": {},
   "outputs": [
    {
     "data": {
      "text/plain": [
       "tensor([False,  True, False, False, False, False,  True, False, False, False,\n",
       "         True, False, False, False, False, False, False, False, False,  True,\n",
       "         True, False, False, False,  True, False, False, False, False, False,\n",
       "        False, False, False, False, False, False, False, False, False, False,\n",
       "        False, False, False, False, False, False,  True,  True, False,  True,\n",
       "        False, False, False, False, False, False, False,  True,  True, False,\n",
       "        False,  True,  True,  True, False, False,  True,  True,  True,  True,\n",
       "        False, False,  True,  True, False, False, False,  True, False, False,\n",
       "         True, False, False, False, False, False, False, False, False, False,\n",
       "         True, False, False,  True, False,  True, False,  True,  True, False])"
      ]
     },
     "execution_count": 15,
     "metadata": {},
     "output_type": "execute_result"
    }
   ],
   "source": [
    "index_matrix_ber=torch.bernoulli(index_matrix, p_real).bool()\n",
    "index_matrix_ber"
   ]
  },
  {
   "cell_type": "code",
   "execution_count": 17,
   "metadata": {},
   "outputs": [
    {
     "data": {
      "text/plain": [
       "tensor(1.)"
      ]
     },
     "execution_count": 17,
     "metadata": {},
     "output_type": "execute_result"
    }
   ],
   "source": [
    "real[0][0]"
   ]
  },
  {
   "cell_type": "code",
   "execution_count": 21,
   "metadata": {},
   "outputs": [
    {
     "data": {
      "text/plain": [
       "100"
      ]
     },
     "execution_count": 21,
     "metadata": {},
     "output_type": "execute_result"
    }
   ],
   "source": [
    "real.shape[0]"
   ]
  },
  {
   "cell_type": "code",
   "execution_count": 25,
   "metadata": {},
   "outputs": [
    {
     "data": {
      "text/plain": [
       "tensor(0.2445)"
      ]
     },
     "execution_count": 25,
     "metadata": {},
     "output_type": "execute_result"
    }
   ],
   "source": [
    "index_matrix[1]"
   ]
  },
  {
   "cell_type": "code",
   "execution_count": 29,
   "metadata": {
    "scrolled": true
   },
   "outputs": [
    {
     "data": {
      "text/plain": [
       "tensor([[4.7254e-01, 4.9982e-01],\n",
       "        [3.6453e-01, 4.7567e-01],\n",
       "        [1.1325e-01, 9.4423e-01],\n",
       "        [6.9872e-01, 8.3560e-01],\n",
       "        [5.2601e-01, 6.8122e-02],\n",
       "        [9.7820e-01, 6.5800e-01],\n",
       "        [2.0954e-02, 9.9735e-01],\n",
       "        [6.1772e-01, 1.2374e-01],\n",
       "        [5.8884e-01, 9.8922e-01],\n",
       "        [5.9302e-01, 5.2026e-01],\n",
       "        [7.3991e-01, 2.0577e-01],\n",
       "        [7.4778e-01, 3.6484e-01],\n",
       "        [6.7071e-01, 3.0848e-01],\n",
       "        [1.3315e-01, 8.9807e-01],\n",
       "        [8.3513e-01, 2.5715e-01],\n",
       "        [6.4583e-02, 4.7008e-01],\n",
       "        [4.8130e-01, 9.5794e-01],\n",
       "        [5.0259e-01, 4.5716e-01],\n",
       "        [1.7115e-01, 3.8630e-01],\n",
       "        [2.8897e-01, 5.2308e-01],\n",
       "        [3.7527e-01, 3.3431e-01],\n",
       "        [9.7956e-01, 7.8294e-02],\n",
       "        [5.4166e-02, 3.5198e-01],\n",
       "        [9.0869e-01, 6.9255e-01],\n",
       "        [5.8329e-01, 9.2620e-01],\n",
       "        [8.1390e-01, 4.3529e-04],\n",
       "        [7.3470e-01, 4.1919e-01],\n",
       "        [5.4526e-01, 9.3430e-01],\n",
       "        [7.7148e-02, 9.5493e-01],\n",
       "        [5.7917e-01, 4.8162e-01],\n",
       "        [5.2026e-01, 5.9394e-01],\n",
       "        [3.2113e-01, 5.0746e-01],\n",
       "        [1.3141e-01, 9.2364e-01],\n",
       "        [1.4794e-01, 6.7187e-01],\n",
       "        [2.6394e-01, 5.7426e-01],\n",
       "        [8.6930e-01, 7.4293e-01],\n",
       "        [5.2467e-01, 5.1563e-01],\n",
       "        [8.9464e-01, 6.3618e-02],\n",
       "        [6.6566e-01, 8.3979e-01],\n",
       "        [4.9539e-01, 6.0381e-01],\n",
       "        [7.4443e-01, 4.6967e-01],\n",
       "        [3.5507e-01, 7.8642e-01],\n",
       "        [4.4615e-01, 1.3550e-01],\n",
       "        [5.9326e-02, 7.8125e-02],\n",
       "        [5.2889e-01, 2.7274e-02],\n",
       "        [6.8085e-01, 8.6880e-01],\n",
       "        [1.4369e-02, 2.6069e-02],\n",
       "        [9.3346e-01, 2.5170e-01],\n",
       "        [5.4593e-01, 6.6586e-01],\n",
       "        [2.7747e-01, 4.6574e-02],\n",
       "        [8.4806e-01, 1.6318e-01],\n",
       "        [6.3514e-01, 1.9597e-01],\n",
       "        [7.4097e-01, 1.2317e-01],\n",
       "        [1.8713e-01, 1.3527e-01],\n",
       "        [1.2584e-01, 9.2596e-01],\n",
       "        [5.8014e-01, 5.7504e-02],\n",
       "        [8.1482e-01, 7.8508e-01],\n",
       "        [6.2158e-01, 3.8335e-01],\n",
       "        [6.2413e-01, 1.9775e-01],\n",
       "        [9.0141e-01, 4.3287e-01],\n",
       "        [2.2949e-01, 4.5164e-01],\n",
       "        [9.9016e-01, 8.5925e-01],\n",
       "        [4.2460e-01, 4.8752e-01],\n",
       "        [9.1424e-01, 5.6731e-02],\n",
       "        [7.7572e-02, 8.4266e-01],\n",
       "        [4.8822e-01, 8.8127e-02],\n",
       "        [3.7055e-01, 3.9833e-02],\n",
       "        [4.0240e-01, 4.2227e-01],\n",
       "        [5.2713e-01, 7.3148e-01],\n",
       "        [1.2848e-01, 3.7403e-01],\n",
       "        [6.6762e-01, 8.2948e-01],\n",
       "        [6.0054e-01, 7.4519e-01],\n",
       "        [2.8603e-01, 8.4340e-01],\n",
       "        [9.1688e-01, 4.2958e-01],\n",
       "        [5.5979e-01, 8.7071e-01],\n",
       "        [4.6729e-01, 7.6560e-01],\n",
       "        [5.4167e-02, 2.8231e-01],\n",
       "        [6.2022e-01, 6.2882e-01],\n",
       "        [9.6318e-01, 6.9913e-01],\n",
       "        [8.6474e-01, 5.3833e-01],\n",
       "        [9.6159e-01, 5.7050e-01],\n",
       "        [1.6958e-01, 8.8217e-01],\n",
       "        [2.5006e-02, 6.4042e-01],\n",
       "        [8.1846e-01, 8.4748e-01],\n",
       "        [6.9062e-01, 7.9865e-02],\n",
       "        [8.6150e-01, 7.5878e-02],\n",
       "        [7.5241e-01, 1.1300e-01],\n",
       "        [6.1624e-01, 8.2633e-03],\n",
       "        [9.4103e-01, 8.4738e-01],\n",
       "        [3.7334e-01, 4.7804e-01],\n",
       "        [7.1993e-01, 3.8885e-01],\n",
       "        [2.7896e-01, 8.4430e-01],\n",
       "        [9.1088e-01, 4.4168e-01],\n",
       "        [2.5850e-01, 3.1912e-01],\n",
       "        [3.2060e-01, 5.0519e-01],\n",
       "        [4.9870e-01, 6.9883e-01],\n",
       "        [6.9275e-01, 4.6069e-02],\n",
       "        [5.5499e-01, 3.8664e-01],\n",
       "        [8.5881e-01, 8.8752e-02],\n",
       "        [7.3738e-02, 1.5103e-02]])"
      ]
     },
     "execution_count": 29,
     "metadata": {},
     "output_type": "execute_result"
    }
   ],
   "source": [
    "index_matrix_test=torch.rand(len(real),2)\n",
    "index_matrix_test"
   ]
  },
  {
   "cell_type": "code",
   "execution_count": 30,
   "metadata": {},
   "outputs": [
    {
     "data": {
      "text/plain": [
       "torch.Size([100, 2])"
      ]
     },
     "execution_count": 30,
     "metadata": {},
     "output_type": "execute_result"
    }
   ],
   "source": [
    "index_matrix_test.shape"
   ]
  },
  {
   "cell_type": "code",
   "execution_count": 31,
   "metadata": {},
   "outputs": [
    {
     "data": {
      "text/plain": [
       "tensor(0.4725)"
      ]
     },
     "execution_count": 31,
     "metadata": {},
     "output_type": "execute_result"
    }
   ],
   "source": [
    "index_matrix_test[0][0]"
   ]
  },
  {
   "cell_type": "code",
   "execution_count": null,
   "metadata": {},
   "outputs": [],
   "source": []
  }
 ],
 "metadata": {
  "kernelspec": {
   "display_name": "Python 3",
   "language": "python",
   "name": "python3"
  },
  "language_info": {
   "codemirror_mode": {
    "name": "ipython",
    "version": 3
   },
   "file_extension": ".py",
   "mimetype": "text/x-python",
   "name": "python",
   "nbconvert_exporter": "python",
   "pygments_lexer": "ipython3",
   "version": "3.7.4"
  }
 },
 "nbformat": 4,
 "nbformat_minor": 4
}
